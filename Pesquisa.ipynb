{
 "cells": [
  {
   "cell_type": "code",
   "execution_count": 1,
   "metadata": {},
   "outputs": [],
   "source": [
    "from Coletor import Coletor\n",
    "from Indexador import Indexador\n",
    "from Buscador import Buscador"
   ]
  },
  {
   "cell_type": "code",
   "execution_count": 3,
   "metadata": {},
   "outputs": [
    {
     "name": "stdout",
     "output_type": "stream",
     "text": [
      "Consulta: Machine Learning\n",
      "Precisão: 0.00, Revocação: 0.00\n",
      "URL: https://github.com/github/roadmap, Score: 1.341319932973397\n",
      "URL: https://github.com/, Score: 0.5365279731893587\n",
      "URL: https://github.com/orgs/github/projects/4247, Score: 0.26826398659467937\n",
      "URL: https://github.com/community/community/discussions, Score: 0.26826398659467937\n",
      "URL: https://github.com/features/issues, Score: 0.26826398659467937\n",
      "URL: https://github.com/github/roadmap/projects/1, Score: 0.26826398659467937\n",
      "URL: https://github.com/alexcnichols, Score: 0.26826398659467937\n",
      "URL: https://github.com/michellemerrill, Score: 0.26826398659467937\n",
      "URL: https://github.com/ankneis, Score: 0.26826398659467937\n",
      "URL: https://github.com/Sid-ah, Score: 0.26826398659467937\n",
      "URL: https://github.com/about, Score: 0.26826398659467937\n",
      "URL: https://github.com/github, Score: 0.26826398659467937\n",
      "URL: https://github.com/github/site-policy/pull/582, Score: 0.26826398659467937\n"
     ]
    }
   ],
   "source": [
    "\n",
    "# Inicialização e Uso\n",
    "\n",
    "# URLs iniciais para coleta\n",
    "urls_iniciais = [\n",
    "    'https://github.com/',\n",
    "    ]\n",
    "\n",
    "# instância do Coletor e colete os dados automaticamente\n",
    "coletor = Coletor(urls_iniciais)\n",
    "# A coleta é iniciada automaticamente pelo construtor da classe Coletor\n",
    "\n",
    "# Crie uma instância do Indexador e indexe os documentos coletados\n",
    "indexador = Indexador()\n",
    "indexador.indexar_documentos(coletor.obter_textos_urls())  # Supõe que textos_urls seja uma lista de tuplas (url, texto)\n",
    "\n",
    "# Crie uma instância do Buscador\n",
    "buscador = Buscador(indexador)\n",
    "\n",
    "# Realize uma consulta\n",
    "consulta = \"Machine Learning\"  # Exemplo de consulta\n",
    "\n",
    "# Processe a consulta e obtenha os resultados\n",
    "resultados = buscador.processar_consulta(consulta)\n",
    "\n",
    "# Defina URLs consideradas relevantes para avaliação de precisão e revocação\n",
    "urls_relevantes = [\n",
    "    \"https://github.com/features/codespaces/\",\n",
    "    \"https://github.com/readme/\",\n",
    "    \"https://github.com/git-guides\"\n",
    "    \n",
    "    # Inclua outras URLs que você considera relevantes para a consulta\n",
    "]\n",
    "\n",
    "# Calcule precisão e revocação\n",
    "precisao, revocacao = buscador.calcular_precisao_revocacao([url for url, _ in resultados], urls_relevantes)\n",
    "\n",
    "# Exiba os resultados\n",
    "print(f\"Consulta: {consulta}\")\n",
    "print(f\"Precisão: {precisao:.2f}, Revocação: {revocacao:.2f}\")\n",
    "for url, score in resultados:\n",
    "    print(f\"URL: {url}, Score: {score}\")"
   ]
  }
 ],
 "metadata": {
  "kernelspec": {
   "display_name": "Python 3",
   "language": "python",
   "name": "python3"
  },
  "language_info": {
   "codemirror_mode": {
    "name": "ipython",
    "version": 3
   },
   "file_extension": ".py",
   "mimetype": "text/x-python",
   "name": "python",
   "nbconvert_exporter": "python",
   "pygments_lexer": "ipython3",
   "version": "3.11.4"
  }
 },
 "nbformat": 4,
 "nbformat_minor": 2
}
