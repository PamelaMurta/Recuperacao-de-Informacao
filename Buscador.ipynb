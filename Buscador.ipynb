{
 "cells": [
  {
   "cell_type": "code",
   "execution_count": 5,
   "metadata": {},
   "outputs": [],
   "source": [
    "from Coletor import Coletor\n",
    "from Indexador import Indexador\n",
    "from collections import defaultdict\n"
   ]
  },
  {
   "cell_type": "code",
   "execution_count": 6,
   "metadata": {},
   "outputs": [],
   "source": [
    "class Buscador:\n",
    "    def __init__(self, indexador):\n",
    "        self.indexador = indexador\n",
    "\n",
    "    def processar_consulta(self, consulta):\n",
    "        termos = consulta.lower().split()\n",
    "        resultados = None\n",
    "        for termo in termos:\n",
    "            if resultados is None:\n",
    "                resultados = set(self.indexador.buscar(termo))\n",
    "            else:\n",
    "                resultados &= set(self.indexador.buscar(termo))\n",
    "        return list(resultados)\n",
    "\n",
    "    def calcular_precisao_revocacao(self, resultados, relevantes):\n",
    "        tp = len(set(resultados) & set(relevantes))\n",
    "        precisao = tp / len(resultados) if resultados else 0\n",
    "        revocacao = tp / len(relevantes) if relevantes else 0\n",
    "        return precisao, revocacao\n",
    "\n",
    "    def classificar_resultados(self, resultados, consulta):\n",
    "        pesos = defaultdict(int)\n",
    "        for termo in consulta.lower().split():\n",
    "            pesos[termo] += 1\n",
    "        resultados_ponderados = [(url, sum(self.indexador.indice_invertido[termo]['idf'] * pesos[termo] for termo in consulta.lower().split())) for url in resultados]\n",
    "        resultados_ordenados = sorted(resultados_ponderados, key=lambda x: x[1], reverse=True)\n",
    "        return [url for url, _ in resultados_ordenados]"
   ]
  },
  {
   "cell_type": "code",
   "execution_count": 7,
   "metadata": {},
   "outputs": [],
   "source": [
    "urls = [\n",
    "    'https://www.nasa.gov',\n",
    "    'https://github.com'\n",
    "    # Adicione mais URLs específicas conforme necessário\n",
    "]\n",
    "\n",
    "# Criar instância do Coletor com as novas URLs\n",
    "coletor = Coletor(urls=urls)\n",
    "\n",
    "# Proceder com a coleta e indexação\n",
    "coletor.coletar()\n",
    "indexador = Indexador(coletor)\n",
    "indexador.indexar_documentos()\n",
    "\n",
    "\n",
    "# Criar instância do Buscador\n",
    "buscador = Buscador(indexador)\n",
    "\n",
    "# Processar consulta\n",
    "consulta = \"machine learning\"\n",
    "resultados = buscador.processar_consulta(consulta)\n",
    "\n",
    "# Exibir resultados\n",
    "print(\"Resultados da busca:\")\n",
    "for resultado in resultados:\n",
    "    print(resultado)"
   ]
  }
 ],
 "metadata": {
  "kernelspec": {
   "display_name": "Python 3",
   "language": "python",
   "name": "python3"
  },
  "language_info": {
   "codemirror_mode": {
    "name": "ipython",
    "version": 3
   },
   "file_extension": ".py",
   "mimetype": "text/x-python",
   "name": "python",
   "nbconvert_exporter": "python",
   "pygments_lexer": "ipython3",
   "version": "3.11.4"
  }
 },
 "nbformat": 4,
 "nbformat_minor": 2
}
